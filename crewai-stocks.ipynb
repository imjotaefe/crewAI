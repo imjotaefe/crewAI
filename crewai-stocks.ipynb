{
 "cells": [
  {
   "cell_type": "code",
   "execution_count": 102,
   "metadata": {},
   "outputs": [],
   "source": [
    "import json\n",
    "import os\n",
    "from datetime import datetime\n",
    "\n",
    "import yfinance as yf\n",
    "from crewai import Agent, Task, Crew, Process\n",
    "from langchain.tools import Tool\n",
    "from langchain_openai import ChatOpenAI\n",
    "from langchain_community.tools import DuckDuckGoSearchResults\n",
    "from IPython.display import Markdown"
   ]
  },
  {
   "cell_type": "code",
   "execution_count": 103,
   "metadata": {},
   "outputs": [],
   "source": [
    "def fetch_stock_price(ticket):\n",
    "  stock = yf.download(ticket, start=\"2023-08-08\", end=\"2024-08-08\")\n",
    "  return stock\n",
    "\n",
    "yahoo_finance_tool = Tool(\n",
    "  name = \"Yahoo Finance Tool\",\n",
    "  description = \"Fetches stock prices for {ticket} from the last year about a specific company from Yahoo Finance API\",\n",
    "  func = lambda ticket: fetch_stock_price(ticket)\n",
    ")"
   ]
  },
  {
   "cell_type": "code",
   "execution_count": 104,
   "metadata": {},
   "outputs": [],
   "source": [
    "os.environ[\"OPENAI_API_KEY\"] = \"key\"\n",
    "llm = ChatOpenAI(model=\"gpt-3.5-turbo\")"
   ]
  },
  {
   "cell_type": "code",
   "execution_count": 105,
   "metadata": {},
   "outputs": [],
   "source": [
    "stockPriceAnalyst = Agent(\n",
    "  role= \"Senior stock price Analyst\",\n",
    "  goal= \"Find the {ticket} stock price and analyses trends\",\n",
    "  backstory= \"\"\"You are a highly experienced in analyzing the price of an specific stock and make predictions about its future price.\"\"\",\n",
    "  verbose= True,\n",
    "  llm= llm,\n",
    "  max_iter= 5,\n",
    "  memory= True,\n",
    "  tools= [yahoo_finance_tool],\n",
    "  allow_delegation=False\n",
    ")"
   ]
  },
  {
   "cell_type": "code",
   "execution_count": 106,
   "metadata": {},
   "outputs": [],
   "source": [
    "getStockPrice = Task(\n",
    "  description= \"Analyze the stock {ticket} price history and create a trend analyses of up, down or sideways\",\n",
    "  expected_output= \"\"\" Specify the current trend stock price - up, down or sideways,\n",
    "  eg. stock= 'APP, price UP'\n",
    "  \"\"\",\n",
    "  agent= stockPriceAnalyst\n",
    ")"
   ]
  },
  {
   "cell_type": "code",
   "execution_count": 107,
   "metadata": {},
   "outputs": [],
   "source": [
    "search_tool = DuckDuckGoSearchResults(backend=\"news\", num_results=10)"
   ]
  },
  {
   "cell_type": "code",
   "execution_count": 108,
   "metadata": {},
   "outputs": [],
   "source": [
    "newsAnalyst = Agent(\n",
    "  role= \"Stock News Analyst\",\n",
    "  goal= \"\"\"Create a short summary of the market news related to the stock {ticket} company. Specify the current trend - up, down or sideways with \n",
    "  the news context. For each request stock asset, specify a number between 0 and 100, where 0 is extreme fear and 100 is extreme greed.\n",
    "  \"\"\",\n",
    "  backstory= \"\"\" You are a highly experienced in analyzing the market trends and news and have tracked assets for more then 10 years.\n",
    "  You are also master level analyst in the tradicional markets and have deep understanding of human psychology.\n",
    "  You understand news, theirs tittles and information, but you look at those with a health dose of skepticism.\n",
    "  You consider also the source of the news articles.\n",
    "  \"\"\",\n",
    "  verbose= True,\n",
    "  llm= llm,\n",
    "  max_iter= 10,\n",
    "  memory= True,\n",
    "  tools= [search_tool],\n",
    "  allow_delegation=False\n",
    ")"
   ]
  },
  {
   "cell_type": "code",
   "execution_count": 109,
   "metadata": {},
   "outputs": [],
   "source": [
    "get_news = Task(\n",
    "  description= \"\"\"Take the stock and always inlude BTC to it (if not request).\n",
    "  Use the search tool to search each one individually.\n",
    "  The current date is {datetime.now()}.\n",
    "  Compose the results into a helpfull report\n",
    "  \"\"\",\n",
    "  expected_output= \"\"\" A summary of the overall market and one sentece summary for each request asset.\n",
    "  Include a fear/greed score for each asset based on the news. Use format:\n",
    "  <STOCK ASSET>\n",
    "  <SUMMARY BASED ON NEWS>\n",
    "  <TREND PREDICTION>\n",
    "  <FEAR/GREED SCORE>\n",
    "  \"\"\",\n",
    "  agent= newsAnalyst\n",
    ")"
   ]
  },
  {
   "cell_type": "code",
   "execution_count": 110,
   "metadata": {},
   "outputs": [],
   "source": [
    "stockAnalystWrite = Agent(\n",
    "  role= \"Senior Stock Analyst Writter\",\n",
    "  goal= \"\"\" Analyze the trends price and news and write an insighfull compelling and informative 3 paaragraph long newsletter based on the stock report and price trend.\"\"\",\n",
    "  backstory= \"\"\" You are widely accepted as the best stock analyst in the market. You understand complex concepts and create compelling stories\n",
    "  and narratives that resonate with wider audiences.\n",
    "  You anderstand macro factors and combine multiple theories - eg. cycle theory and fundamental analyses.\n",
    "  You are able to hold multiple opinions when analysing anything.\n",
    "  \"\"\",\n",
    "  verbose= True,\n",
    "  llm= llm,\n",
    "  max_iter= 5,\n",
    "  memory= True,\n",
    "  allow_delegation=True\n",
    ")"
   ]
  },
  {
   "cell_type": "code",
   "execution_count": 111,
   "metadata": {},
   "outputs": [],
   "source": [
    "writeAnalyses = Task(\n",
    "  description= \"\"\" Use the stock price trend and the stock news report to create an analyses and write the newsletter about the {ticket} company\n",
    "  that is brief and highlights the most important points.\n",
    "  Focus on the stock price trend, news and fear/greed score. What are the near future considerations?\n",
    "  Include the  previous analyses of stock trend and news summary.\n",
    "  \"\"\",\n",
    "  expected_output= \"\"\" An eloquent 3 paragraphs newsletter formated as markdown in an east readable manner. it should contain:\n",
    "  - 3 bullets executive summary\n",
    "  - Introduction - set the overall picture and spike up the interest\n",
    "  - main part provides the meat of the analysis including the news summary and fear/greed scores\n",
    "  -summary - key facts and concrete future trend prediction - up, down or sideways.\n",
    "  \"\"\",\n",
    "  agent= stockAnalystWrite,\n",
    "  context= [getStockPrice, get_news]\n",
    ")"
   ]
  },
  {
   "cell_type": "code",
   "execution_count": 112,
   "metadata": {},
   "outputs": [
    {
     "name": "stderr",
     "output_type": "stream",
     "text": [
      "2024-08-22 18:43:26,683 - 30252 - __init__.py-__init__:531 - WARNING: Overriding of current TracerProvider is not allowed\n"
     ]
    }
   ],
   "source": [
    "crew = Crew(\n",
    "  agents= [stockPriceAnalyst, newsAnalyst, stockAnalystWrite],\n",
    "  tasks= [getStockPrice, get_news, writeAnalyses],\n",
    "  process= Process.hierarchical,\n",
    "  full_output= True,\n",
    "  share_crew=False,\n",
    "  manager_llm=llm,\n",
    "  max_iter=15\n",
    ")"
   ]
  },
  {
   "cell_type": "code",
   "execution_count": 113,
   "metadata": {},
   "outputs": [],
   "source": [
    "results = crew.kickoff()"
   ]
  },
  {
   "cell_type": "code",
   "execution_count": 114,
   "metadata": {},
   "outputs": [
    {
     "name": "stdout",
     "output_type": "stream",
     "text": [
      "Agent stopped due to iteration limit or time limit.\n"
     ]
    }
   ],
   "source": [
    "Markdown(results['final_output'])"
   ]
  }
 ],
 "metadata": {
  "kernelspec": {
   "display_name": "Python 3",
   "language": "python",
   "name": "python3"
  },
  "language_info": {
   "codemirror_mode": {
    "name": "ipython",
    "version": 3
   },
   "file_extension": ".py",
   "mimetype": "text/x-python",
   "name": "python",
   "nbconvert_exporter": "python",
   "pygments_lexer": "ipython3",
   "version": "3.12.4"
  }
 },
 "nbformat": 4,
 "nbformat_minor": 2
}
